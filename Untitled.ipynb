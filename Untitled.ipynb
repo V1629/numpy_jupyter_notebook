{
 "cells": [
  {
   "cell_type": "code",
   "execution_count": 1,
   "id": "18b20115",
   "metadata": {},
   "outputs": [
    {
     "name": "stdout",
     "output_type": "stream",
     "text": [
      "hello wotld\n"
     ]
    }
   ],
   "source": [
    "print(\"hello wotld\")"
   ]
  },
  {
   "cell_type": "code",
   "execution_count": 2,
   "id": "cd1254de",
   "metadata": {},
   "outputs": [],
   "source": [
    "import numpy as np"
   ]
  },
  {
   "cell_type": "code",
   "execution_count": 6,
   "id": "8bb161f7",
   "metadata": {},
   "outputs": [
    {
     "data": {
      "text/plain": [
       "array([1, 2, 3, 4, 5])"
      ]
     },
     "execution_count": 6,
     "metadata": {},
     "output_type": "execute_result"
    }
   ],
   "source": [
    "arr1=np.array([1,2,3,4,5])\n",
    "arr1"
   ]
  },
  {
   "cell_type": "code",
   "execution_count": 7,
   "id": "aa4eb862",
   "metadata": {},
   "outputs": [
    {
     "data": {
      "text/plain": [
       "numpy.ndarray"
      ]
     },
     "execution_count": 7,
     "metadata": {},
     "output_type": "execute_result"
    }
   ],
   "source": [
    "type(arr1)"
   ]
  },
  {
   "cell_type": "code",
   "execution_count": 9,
   "id": "0827af0a",
   "metadata": {},
   "outputs": [
    {
     "data": {
      "text/plain": [
       "array([[1, 2, 3],\n",
       "       [4, 5, 6]])"
      ]
     },
     "execution_count": 9,
     "metadata": {},
     "output_type": "execute_result"
    }
   ],
   "source": [
    "arr2=np.array([[1,2,3],[4,5,6]])\n",
    "arr2"
   ]
  },
  {
   "cell_type": "code",
   "execution_count": 13,
   "id": "7c944696",
   "metadata": {},
   "outputs": [
    {
     "data": {
      "text/plain": [
       "array([[0., 0., 0.],\n",
       "       [0., 0., 0.]])"
      ]
     },
     "execution_count": 13,
     "metadata": {},
     "output_type": "execute_result"
    }
   ],
   "source": [
    "arr3=np.zeros((2,3))\n",
    "arr3"
   ]
  },
  {
   "cell_type": "code",
   "execution_count": 14,
   "id": "0b4beaa5",
   "metadata": {},
   "outputs": [
    {
     "data": {
      "text/plain": [
       "array([[1., 1., 1.],\n",
       "       [1., 1., 1.],\n",
       "       [1., 1., 1.]])"
      ]
     },
     "execution_count": 14,
     "metadata": {},
     "output_type": "execute_result"
    }
   ],
   "source": [
    "arr4=np.ones((3,3))\n",
    "arr4"
   ]
  },
  {
   "cell_type": "code",
   "execution_count": 15,
   "id": "f9654eae",
   "metadata": {},
   "outputs": [
    {
     "data": {
      "text/plain": [
       "array([[1., 0., 0., 0., 0.],\n",
       "       [0., 1., 0., 0., 0.],\n",
       "       [0., 0., 1., 0., 0.],\n",
       "       [0., 0., 0., 1., 0.],\n",
       "       [0., 0., 0., 0., 1.]])"
      ]
     },
     "execution_count": 15,
     "metadata": {},
     "output_type": "execute_result"
    }
   ],
   "source": [
    "arr5=np.identity(5)\n",
    "arr5"
   ]
  },
  {
   "cell_type": "code",
   "execution_count": 19,
   "id": "0b6e2841",
   "metadata": {},
   "outputs": [
    {
     "data": {
      "text/plain": [
       "array([ 5,  7,  9, 11, 13, 15])"
      ]
     },
     "execution_count": 19,
     "metadata": {},
     "output_type": "execute_result"
    }
   ],
   "source": [
    "arr6=np.arange(5,16,2)\n",
    "arr6"
   ]
  },
  {
   "cell_type": "code",
   "execution_count": 21,
   "id": "d66c6b31",
   "metadata": {},
   "outputs": [
    {
     "data": {
      "text/plain": [
       "array([10.        , 11.11111111, 12.22222222, 13.33333333, 14.44444444,\n",
       "       15.55555556, 16.66666667, 17.77777778, 18.88888889, 20.        ])"
      ]
     },
     "execution_count": 21,
     "metadata": {},
     "output_type": "execute_result"
    }
   ],
   "source": [
    "arr7=np.linspace(10,20,10)\n",
    "arr7"
   ]
  },
  {
   "cell_type": "code",
   "execution_count": 22,
   "id": "593989d1",
   "metadata": {},
   "outputs": [
    {
     "data": {
      "text/plain": [
       "array([10.        , 11.11111111, 12.22222222, 13.33333333, 14.44444444,\n",
       "       15.55555556, 16.66666667, 17.77777778, 18.88888889, 20.        ])"
      ]
     },
     "execution_count": 22,
     "metadata": {},
     "output_type": "execute_result"
    }
   ],
   "source": [
    "arr8=arr7.copy()\n",
    "arr8"
   ]
  },
  {
   "cell_type": "code",
   "execution_count": 23,
   "id": "2c1e0340",
   "metadata": {},
   "outputs": [
    {
     "data": {
      "text/plain": [
       "array([[[1, 2],\n",
       "        [3, 4]],\n",
       "\n",
       "       [[5, 6],\n",
       "        [7, 8]]])"
      ]
     },
     "execution_count": 23,
     "metadata": {},
     "output_type": "execute_result"
    }
   ],
   "source": [
    "arr9=np.array([[[1,2],[3,4]],[[5,6],[7,8]]])\n",
    "arr9"
   ]
  },
  {
   "cell_type": "code",
   "execution_count": 24,
   "id": "044fedc8",
   "metadata": {},
   "outputs": [
    {
     "data": {
      "text/plain": [
       "(2, 2, 2)"
      ]
     },
     "execution_count": 24,
     "metadata": {},
     "output_type": "execute_result"
    }
   ],
   "source": [
    "arr9.shape\n"
   ]
  },
  {
   "cell_type": "code",
   "execution_count": 26,
   "id": "90370ba8",
   "metadata": {},
   "outputs": [
    {
     "data": {
      "text/plain": [
       "3"
      ]
     },
     "execution_count": 26,
     "metadata": {},
     "output_type": "execute_result"
    }
   ],
   "source": [
    "arr9.ndim\n"
   ]
  },
  {
   "cell_type": "code",
   "execution_count": 27,
   "id": "a131d9cc",
   "metadata": {},
   "outputs": [
    {
     "data": {
      "text/plain": [
       "dtype('float64')"
      ]
     },
     "execution_count": 27,
     "metadata": {},
     "output_type": "execute_result"
    }
   ],
   "source": [
    "arr8.dtype"
   ]
  },
  {
   "cell_type": "code",
   "execution_count": 28,
   "id": "fcd8c9cc",
   "metadata": {},
   "outputs": [
    {
     "data": {
      "text/plain": [
       "dtype('int32')"
      ]
     },
     "execution_count": 28,
     "metadata": {},
     "output_type": "execute_result"
    }
   ],
   "source": [
    "arr9.dtype"
   ]
  },
  {
   "cell_type": "code",
   "execution_count": 29,
   "id": "bf50704c",
   "metadata": {},
   "outputs": [
    {
     "data": {
      "text/plain": [
       "array([[[1., 2.],\n",
       "        [3., 4.]],\n",
       "\n",
       "       [[5., 6.],\n",
       "        [7., 8.]]])"
      ]
     },
     "execution_count": 29,
     "metadata": {},
     "output_type": "execute_result"
    }
   ],
   "source": [
    "arr9.astype(\"float\")"
   ]
  },
  {
   "cell_type": "code",
   "execution_count": 30,
   "id": "12e4a892",
   "metadata": {},
   "outputs": [],
   "source": [
    "lista=range(100)\n",
    "arr11=np.arange(100)"
   ]
  },
  {
   "cell_type": "code",
   "execution_count": 31,
   "id": "93ce5d3d",
   "metadata": {},
   "outputs": [],
   "source": [
    "import sys"
   ]
  },
  {
   "cell_type": "code",
   "execution_count": 32,
   "id": "5a35ab93",
   "metadata": {},
   "outputs": [
    {
     "name": "stdout",
     "output_type": "stream",
     "text": [
      "2800\n"
     ]
    }
   ],
   "source": [
    "print(sys.getsizeof(99)*len(lista))"
   ]
  },
  {
   "cell_type": "code",
   "execution_count": 34,
   "id": "529a95d3",
   "metadata": {},
   "outputs": [
    {
     "name": "stdout",
     "output_type": "stream",
     "text": [
      "400\n"
     ]
    }
   ],
   "source": [
    "print(arr11.itemsize*arr11.size)"
   ]
  },
  {
   "cell_type": "code",
   "execution_count": 35,
   "id": "9c3b8878",
   "metadata": {},
   "outputs": [],
   "source": [
    "import time"
   ]
  },
  {
   "cell_type": "code",
   "execution_count": 47,
   "id": "4698aa17",
   "metadata": {},
   "outputs": [
    {
     "name": "stdout",
     "output_type": "stream",
     "text": [
      "3.5887112617492676\n"
     ]
    }
   ],
   "source": [
    "x=range(10000000)\n",
    "y=range(10000000,20000000)\n",
    "start_time=time.time()\n",
    "c=[(x,y) for x,y in zip(x,y)]\n",
    "print(time.time()-start_time)\n",
    "\n"
   ]
  },
  {
   "cell_type": "code",
   "execution_count": 48,
   "id": "598ff643",
   "metadata": {},
   "outputs": [
    {
     "name": "stdout",
     "output_type": "stream",
     "text": [
      "0.7293055057525635\n"
     ]
    }
   ],
   "source": [
    "a=np.arange(10000000)\n",
    "b=np.arange(10000000,20000000)\n",
    "start_time=time.time()\n",
    "c=a+b\n",
    "print(time.time()-start_time)\n"
   ]
  },
  {
   "cell_type": "code",
   "execution_count": 52,
   "id": "a4ecb1ca",
   "metadata": {},
   "outputs": [
    {
     "data": {
      "text/plain": [
       "array([[ 0,  1,  2,  3],\n",
       "       [ 4,  5,  6,  7],\n",
       "       [ 8,  9, 10, 11],\n",
       "       [12, 13, 14, 15],\n",
       "       [16, 17, 18, 19],\n",
       "       [20, 21, 22, 23]])"
      ]
     },
     "execution_count": 52,
     "metadata": {},
     "output_type": "execute_result"
    }
   ],
   "source": [
    "arr12=np.arange(24).reshape(6,4)\n",
    "arr12"
   ]
  },
  {
   "cell_type": "code",
   "execution_count": 61,
   "id": "950f3575",
   "metadata": {},
   "outputs": [
    {
     "data": {
      "text/plain": [
       "array([ 2,  6, 10, 14, 18, 22])"
      ]
     },
     "execution_count": 61,
     "metadata": {},
     "output_type": "execute_result"
    }
   ],
   "source": [
    "arr12[:,2]\n"
   ]
  },
  {
   "cell_type": "code",
   "execution_count": 68,
   "id": "1dc5e194",
   "metadata": {},
   "outputs": [
    {
     "data": {
      "text/plain": [
       "array([], shape=(0, 0), dtype=int32)"
      ]
     },
     "execution_count": 68,
     "metadata": {},
     "output_type": "execute_result"
    }
   ],
   "source": [
    "arr12[-1:-2,-2:-4]"
   ]
  },
  {
   "cell_type": "code",
   "execution_count": 1,
   "id": "6180a54a",
   "metadata": {},
   "outputs": [],
   "source": [
    "import numpy as np"
   ]
  },
  {
   "cell_type": "code",
   "execution_count": 2,
   "id": "3895be34",
   "metadata": {},
   "outputs": [
    {
     "data": {
      "text/plain": [
       "array([-3, -3, -3, -3, -3, -3])"
      ]
     },
     "execution_count": 2,
     "metadata": {},
     "output_type": "execute_result"
    }
   ],
   "source": [
    "arr1=np.array([1,2,3,4,5,6])\n",
    "arr2=np.array([4,5,6,7,8,9])\n",
    "arr1-arr2"
   ]
  },
  {
   "cell_type": "code",
   "execution_count": 3,
   "id": "387559b9",
   "metadata": {},
   "outputs": [
    {
     "data": {
      "text/plain": [
       "array([ 4, 10, 18, 28, 40, 54])"
      ]
     },
     "execution_count": 3,
     "metadata": {},
     "output_type": "execute_result"
    }
   ],
   "source": [
    "arr1*arr2"
   ]
  },
  {
   "cell_type": "code",
   "execution_count": 4,
   "id": "ec762dd1",
   "metadata": {},
   "outputs": [
    {
     "data": {
      "text/plain": [
       "array([ 2,  4,  6,  8, 10, 12])"
      ]
     },
     "execution_count": 4,
     "metadata": {},
     "output_type": "execute_result"
    }
   ],
   "source": [
    "arr1*2"
   ]
  },
  {
   "cell_type": "code",
   "execution_count": 5,
   "id": "733d56af",
   "metadata": {},
   "outputs": [
    {
     "data": {
      "text/plain": [
       "array([ True,  True,  True,  True,  True,  True])"
      ]
     },
     "execution_count": 5,
     "metadata": {},
     "output_type": "execute_result"
    }
   ],
   "source": [
    "arr2>3"
   ]
  },
  {
   "cell_type": "code",
   "execution_count": 12,
   "id": "71dcb4e0",
   "metadata": {},
   "outputs": [],
   "source": [
    "arr3=np.arange(6).reshape(2,3)\n",
    "arr4=np.arange(6,12).reshape(3,2)"
   ]
  },
  {
   "cell_type": "code",
   "execution_count": 13,
   "id": "c6c946ec",
   "metadata": {},
   "outputs": [
    {
     "data": {
      "text/plain": [
       "array([[ 28,  31],\n",
       "       [100, 112]])"
      ]
     },
     "execution_count": 13,
     "metadata": {},
     "output_type": "execute_result"
    }
   ],
   "source": [
    "arr3.dot(arr4)"
   ]
  },
  {
   "cell_type": "code",
   "execution_count": 2,
   "id": "4741e46c",
   "metadata": {},
   "outputs": [
    {
     "ename": "NameError",
     "evalue": "name 'arr4' is not defined",
     "output_type": "error",
     "traceback": [
      "\u001b[1;31m---------------------------------------------------------------------------\u001b[0m",
      "\u001b[1;31mNameError\u001b[0m                                 Traceback (most recent call last)",
      "Cell \u001b[1;32mIn[2], line 1\u001b[0m\n\u001b[1;32m----> 1\u001b[0m arr4\n",
      "\u001b[1;31mNameError\u001b[0m: name 'arr4' is not defined"
     ]
    }
   ],
   "source": [
    "arr4"
   ]
  },
  {
   "cell_type": "code",
   "execution_count": 15,
   "id": "395860e8",
   "metadata": {},
   "outputs": [
    {
     "data": {
      "text/plain": [
       "6"
      ]
     },
     "execution_count": 15,
     "metadata": {},
     "output_type": "execute_result"
    }
   ],
   "source": [
    "arr4.min()"
   ]
  },
  {
   "cell_type": "code",
   "execution_count": 16,
   "id": "db4289ba",
   "metadata": {},
   "outputs": [
    {
     "data": {
      "text/plain": [
       "array([6, 7])"
      ]
     },
     "execution_count": 16,
     "metadata": {},
     "output_type": "execute_result"
    }
   ],
   "source": [
    "arr4.min(axis=0)"
   ]
  },
  {
   "cell_type": "code",
   "execution_count": 17,
   "id": "361c77a3",
   "metadata": {},
   "outputs": [
    {
     "data": {
      "text/plain": [
       "array([ 6,  8, 10])"
      ]
     },
     "execution_count": 17,
     "metadata": {},
     "output_type": "execute_result"
    }
   ],
   "source": [
    "arr4.min(axis=1)"
   ]
  },
  {
   "cell_type": "code",
   "execution_count": 18,
   "id": "b4e80cb7",
   "metadata": {},
   "outputs": [
    {
     "data": {
      "text/plain": [
       "array([24, 27])"
      ]
     },
     "execution_count": 18,
     "metadata": {},
     "output_type": "execute_result"
    }
   ],
   "source": [
    "arr4.sum(axis=0)"
   ]
  },
  {
   "cell_type": "code",
   "execution_count": 19,
   "id": "9e9b43ca",
   "metadata": {},
   "outputs": [
    {
     "data": {
      "text/plain": [
       "array([13, 17, 21])"
      ]
     },
     "execution_count": 19,
     "metadata": {},
     "output_type": "execute_result"
    }
   ],
   "source": [
    "arr4.sum(axis=1)"
   ]
  },
  {
   "cell_type": "code",
   "execution_count": 20,
   "id": "bb259812",
   "metadata": {},
   "outputs": [
    {
     "data": {
      "text/plain": [
       "8.5"
      ]
     },
     "execution_count": 20,
     "metadata": {},
     "output_type": "execute_result"
    }
   ],
   "source": [
    "arr4.mean()"
   ]
  },
  {
   "cell_type": "code",
   "execution_count": 21,
   "id": "57f436a7",
   "metadata": {},
   "outputs": [
    {
     "data": {
      "text/plain": [
       "1.707825127659933"
      ]
     },
     "execution_count": 21,
     "metadata": {},
     "output_type": "execute_result"
    }
   ],
   "source": [
    "arr4.std()"
   ]
  },
  {
   "cell_type": "code",
   "execution_count": 22,
   "id": "b37685ad",
   "metadata": {},
   "outputs": [
    {
     "data": {
      "text/plain": [
       "array([[-0.2794155 ,  0.6569866 ],\n",
       "       [ 0.98935825,  0.41211849],\n",
       "       [-0.54402111, -0.99999021]])"
      ]
     },
     "execution_count": 22,
     "metadata": {},
     "output_type": "execute_result"
    }
   ],
   "source": [
    "np.sin(arr4)"
   ]
  },
  {
   "cell_type": "code",
   "execution_count": 23,
   "id": "c93cdf9b",
   "metadata": {},
   "outputs": [
    {
     "data": {
      "text/plain": [
       "8.5"
      ]
     },
     "execution_count": 23,
     "metadata": {},
     "output_type": "execute_result"
    }
   ],
   "source": [
    "np.median(arr4)"
   ]
  },
  {
   "cell_type": "code",
   "execution_count": 24,
   "id": "7e0a2dbb",
   "metadata": {},
   "outputs": [
    {
     "data": {
      "text/plain": [
       "array([[  403.42879349,  1096.63315843],\n",
       "       [ 2980.95798704,  8103.08392758],\n",
       "       [22026.46579481, 59874.1417152 ]])"
      ]
     },
     "execution_count": 24,
     "metadata": {},
     "output_type": "execute_result"
    }
   ],
   "source": [
    "np.exp(arr4)"
   ]
  },
  {
   "cell_type": "code",
   "execution_count": 1,
   "id": "005073b1",
   "metadata": {},
   "outputs": [
    {
     "ename": "NameError",
     "evalue": "name 'arr4' is not defined",
     "output_type": "error",
     "traceback": [
      "\u001b[1;31m---------------------------------------------------------------------------\u001b[0m",
      "\u001b[1;31mNameError\u001b[0m                                 Traceback (most recent call last)",
      "Cell \u001b[1;32mIn[1], line 1\u001b[0m\n\u001b[1;32m----> 1\u001b[0m arr4\n",
      "\u001b[1;31mNameError\u001b[0m: name 'arr4' is not defined"
     ]
    }
   ],
   "source": [
    "arr4"
   ]
  },
  {
   "cell_type": "code",
   "execution_count": 3,
   "id": "f14f2cf7",
   "metadata": {},
   "outputs": [
    {
     "ename": "NameError",
     "evalue": "name 'np' is not defined",
     "output_type": "error",
     "traceback": [
      "\u001b[1;31m---------------------------------------------------------------------------\u001b[0m",
      "\u001b[1;31mNameError\u001b[0m                                 Traceback (most recent call last)",
      "Cell \u001b[1;32mIn[3], line 1\u001b[0m\n\u001b[1;32m----> 1\u001b[0m arr4\u001b[38;5;241m=\u001b[39mnp\u001b[38;5;241m.\u001b[39marray([[\u001b[38;5;241m6\u001b[39m,\u001b[38;5;241m7\u001b[39m],[\u001b[38;5;241m8\u001b[39m,\u001b[38;5;241m9\u001b[39m],[\u001b[38;5;241m10\u001b[39m,\u001b[38;5;241m11\u001b[39m]])\n\u001b[0;32m      2\u001b[0m arr4\n",
      "\u001b[1;31mNameError\u001b[0m: name 'np' is not defined"
     ]
    }
   ],
   "source": [
    "arr4=np.array([[6,7],[8,9],[10,11]])\n",
    "arr4"
   ]
  },
  {
   "cell_type": "code",
   "execution_count": 4,
   "id": "8b866b63",
   "metadata": {},
   "outputs": [],
   "source": [
    "import numpy as np"
   ]
  },
  {
   "cell_type": "code",
   "execution_count": 5,
   "id": "c4944101",
   "metadata": {},
   "outputs": [
    {
     "data": {
      "text/plain": [
       "array([[ 6,  7],\n",
       "       [ 8,  9],\n",
       "       [10, 11]])"
      ]
     },
     "execution_count": 5,
     "metadata": {},
     "output_type": "execute_result"
    }
   ],
   "source": [
    "arr4=np.array([[6,7],[8,9],[10,11]])\n",
    "arr4\n"
   ]
  },
  {
   "cell_type": "code",
   "execution_count": 6,
   "id": "9f0ced04",
   "metadata": {},
   "outputs": [
    {
     "data": {
      "text/plain": [
       "array([ 6,  7,  8,  9, 10, 11])"
      ]
     },
     "execution_count": 6,
     "metadata": {},
     "output_type": "execute_result"
    }
   ],
   "source": [
    "arr4.ravel()\n"
   ]
  },
  {
   "cell_type": "code",
   "execution_count": 10,
   "id": "15838db5",
   "metadata": {},
   "outputs": [
    {
     "data": {
      "text/plain": [
       "array([[ 6,  8, 10],\n",
       "       [ 7,  9, 11]])"
      ]
     },
     "execution_count": 10,
     "metadata": {},
     "output_type": "execute_result"
    }
   ],
   "source": [
    "arr6=arr4.transpose()\n",
    "arr6"
   ]
  },
  {
   "cell_type": "code",
   "execution_count": 9,
   "id": "4231e390",
   "metadata": {},
   "outputs": [
    {
     "data": {
      "text/plain": [
       "array([[12, 13, 14],\n",
       "       [15, 16, 17]])"
      ]
     },
     "execution_count": 9,
     "metadata": {},
     "output_type": "execute_result"
    }
   ],
   "source": [
    "arr5=np.arange(12,18).reshape(2,3)\n",
    "arr5"
   ]
  },
  {
   "cell_type": "code",
   "execution_count": 13,
   "id": "452c6fe8",
   "metadata": {},
   "outputs": [
    {
     "data": {
      "text/plain": [
       "array([[12, 13, 14,  6,  8, 10],\n",
       "       [15, 16, 17,  7,  9, 11]])"
      ]
     },
     "execution_count": 13,
     "metadata": {},
     "output_type": "execute_result"
    }
   ],
   "source": [
    "np.hstack((arr5,arr6))\n",
    "\n"
   ]
  },
  {
   "cell_type": "code",
   "execution_count": 14,
   "id": "3e044420",
   "metadata": {},
   "outputs": [
    {
     "data": {
      "text/plain": [
       "array([[12, 13, 14],\n",
       "       [15, 16, 17],\n",
       "       [ 6,  8, 10],\n",
       "       [ 7,  9, 11]])"
      ]
     },
     "execution_count": 14,
     "metadata": {},
     "output_type": "execute_result"
    }
   ],
   "source": [
    "np.vstack((arr5,arr6))"
   ]
  },
  {
   "cell_type": "code",
   "execution_count": 15,
   "id": "7c7ef025",
   "metadata": {},
   "outputs": [
    {
     "data": {
      "text/plain": [
       "[array([[12, 13, 14]]), array([[15, 16, 17]])]"
      ]
     },
     "execution_count": 15,
     "metadata": {},
     "output_type": "execute_result"
    }
   ],
   "source": [
    "np.vsplit(arr5,2)"
   ]
  },
  {
   "cell_type": "code",
   "execution_count": 18,
   "id": "c7f48c96",
   "metadata": {},
   "outputs": [
    {
     "data": {
      "text/plain": [
       "[array([[12],\n",
       "        [15]]),\n",
       " array([[13],\n",
       "        [16]]),\n",
       " array([[14],\n",
       "        [17]])]"
      ]
     },
     "execution_count": 18,
     "metadata": {},
     "output_type": "execute_result"
    }
   ],
   "source": [
    "np.hsplit(arr5,3)"
   ]
  },
  {
   "cell_type": "code",
   "execution_count": 19,
   "id": "1549894d",
   "metadata": {},
   "outputs": [],
   "source": [
    "x=np.linspace(-40,40,100)"
   ]
  },
  {
   "cell_type": "code",
   "execution_count": 20,
   "id": "ca14b60a",
   "metadata": {},
   "outputs": [
    {
     "data": {
      "text/plain": [
       "array([-40.        , -39.19191919, -38.38383838, -37.57575758,\n",
       "       -36.76767677, -35.95959596, -35.15151515, -34.34343434,\n",
       "       -33.53535354, -32.72727273, -31.91919192, -31.11111111,\n",
       "       -30.3030303 , -29.49494949, -28.68686869, -27.87878788,\n",
       "       -27.07070707, -26.26262626, -25.45454545, -24.64646465,\n",
       "       -23.83838384, -23.03030303, -22.22222222, -21.41414141,\n",
       "       -20.60606061, -19.7979798 , -18.98989899, -18.18181818,\n",
       "       -17.37373737, -16.56565657, -15.75757576, -14.94949495,\n",
       "       -14.14141414, -13.33333333, -12.52525253, -11.71717172,\n",
       "       -10.90909091, -10.1010101 ,  -9.29292929,  -8.48484848,\n",
       "        -7.67676768,  -6.86868687,  -6.06060606,  -5.25252525,\n",
       "        -4.44444444,  -3.63636364,  -2.82828283,  -2.02020202,\n",
       "        -1.21212121,  -0.4040404 ,   0.4040404 ,   1.21212121,\n",
       "         2.02020202,   2.82828283,   3.63636364,   4.44444444,\n",
       "         5.25252525,   6.06060606,   6.86868687,   7.67676768,\n",
       "         8.48484848,   9.29292929,  10.1010101 ,  10.90909091,\n",
       "        11.71717172,  12.52525253,  13.33333333,  14.14141414,\n",
       "        14.94949495,  15.75757576,  16.56565657,  17.37373737,\n",
       "        18.18181818,  18.98989899,  19.7979798 ,  20.60606061,\n",
       "        21.41414141,  22.22222222,  23.03030303,  23.83838384,\n",
       "        24.64646465,  25.45454545,  26.26262626,  27.07070707,\n",
       "        27.87878788,  28.68686869,  29.49494949,  30.3030303 ,\n",
       "        31.11111111,  31.91919192,  32.72727273,  33.53535354,\n",
       "        34.34343434,  35.15151515,  35.95959596,  36.76767677,\n",
       "        37.57575758,  38.38383838,  39.19191919,  40.        ])"
      ]
     },
     "execution_count": 20,
     "metadata": {},
     "output_type": "execute_result"
    }
   ],
   "source": [
    "x"
   ]
  },
  {
   "cell_type": "code",
   "execution_count": 21,
   "id": "19b44579",
   "metadata": {},
   "outputs": [
    {
     "data": {
      "text/plain": [
       "array([-0.74511316, -0.9969604 , -0.63246122,  0.12304167,  0.80247705,\n",
       "        0.98580059,  0.55967698, -0.21245326, -0.85323945, -0.96653119,\n",
       "       -0.48228862,  0.30011711,  0.89698277,  0.93931073,  0.40093277,\n",
       "       -0.38531209, -0.93334716, -0.90436313, -0.31627868,  0.46733734,\n",
       "        0.96203346,  0.86197589,  0.22902277, -0.54551809, -0.9828057 ,\n",
       "       -0.81249769, -0.13988282,  0.61921119,  0.995493  ,  0.75633557,\n",
       "        0.04959214, -0.68781042, -0.99999098, -0.69395153,  0.0411065 ,\n",
       "        0.75075145,  0.99626264,  0.62585878, -0.13146699, -0.8075165 ,\n",
       "       -0.98433866, -0.55261747,  0.22074597,  0.85763861,  0.96431712,\n",
       "        0.47483011, -0.30820902, -0.90070545, -0.93636273, -0.39313661,\n",
       "        0.39313661,  0.93636273,  0.90070545,  0.30820902, -0.47483011,\n",
       "       -0.96431712, -0.85763861, -0.22074597,  0.55261747,  0.98433866,\n",
       "        0.8075165 ,  0.13146699, -0.62585878, -0.99626264, -0.75075145,\n",
       "       -0.0411065 ,  0.69395153,  0.99999098,  0.68781042, -0.04959214,\n",
       "       -0.75633557, -0.995493  , -0.61921119,  0.13988282,  0.81249769,\n",
       "        0.9828057 ,  0.54551809, -0.22902277, -0.86197589, -0.96203346,\n",
       "       -0.46733734,  0.31627868,  0.90436313,  0.93334716,  0.38531209,\n",
       "       -0.40093277, -0.93931073, -0.89698277, -0.30011711,  0.48228862,\n",
       "        0.96653119,  0.85323945,  0.21245326, -0.55967698, -0.98580059,\n",
       "       -0.80247705, -0.12304167,  0.63246122,  0.9969604 ,  0.74511316])"
      ]
     },
     "execution_count": 21,
     "metadata": {},
     "output_type": "execute_result"
    }
   ],
   "source": [
    "y=np.sin(x)\n",
    "y"
   ]
  },
  {
   "cell_type": "code",
   "execution_count": 22,
   "id": "780c4134",
   "metadata": {},
   "outputs": [],
   "source": [
    "import matplotlib.pyplot as plt\n",
    "%matplotlib inline"
   ]
  },
  {
   "cell_type": "code",
   "execution_count": 23,
   "id": "dd214400",
   "metadata": {},
   "outputs": [
    {
     "data": {
      "text/plain": [
       "[<matplotlib.lines.Line2D at 0x1c38edcded0>]"
      ]
     },
     "execution_count": 23,
     "metadata": {},
     "output_type": "execute_result"
    },
    {
     "data": {
      "image/png": "[encoded data removed]",
      "text/plain": [
       "<Figure size 640x480 with 1 Axes>"
      ]
     },
     "metadata": {},
     "output_type": "display_data"
    }
   ],
   "source": [
    "plt.plot(x,y)"
   ]
  },
  {
   "cell_type": "code",
   "execution_count": 29,
   "id": "e1f4e5ea",
   "metadata": {},
   "outputs": [],
   "source": [
    "y=x*x-225"
   ]
  },
  {
   "cell_type": "code",
   "execution_count": 30,
   "id": "ff1507bb",
   "metadata": {},
   "outputs": [
    {
     "data": {
      "text/plain": [
       "[<matplotlib.lines.Line2D at 0x1c39071ddd0>]"
      ]
     },
     "execution_count": 30,
     "metadata": {},
     "output_type": "execute_result"
    },
    {
     "data": {
      "image/png": "[encoded data removed]",
      "text/plain": [
       "<Figure size 640x480 with 1 Axes>"
      ]
     },
     "metadata": {},
     "output_type": "display_data"
    }
   ],
   "source": [
    "plt.plot(x,y)"
   ]
  },
  {
   "cell_type": "code",
   "execution_count": null,
   "id": "8b01e7e1",
   "metadata": {},
   "outputs": [],
   "source": []
  }
 ],
 "metadata": {
  "kernelspec": {
   "display_name": "Python 3 (ipykernel)",
   "language": "python",
   "name": "python3"
  },
  "language_info": {
   "codemirror_mode": {
    "name": "ipython",
    "version": 3
   },
   "file_extension": ".py",
   "mimetype": "text/x-python",
   "name": "python",
   "nbconvert_exporter": "python",
   "pygments_lexer": "ipython3",
   "version": "3.11.5"
  }
 },
 "nbformat": 4,
 "nbformat_minor": 5
}
